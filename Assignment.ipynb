{
 "cells": [
  {
   "cell_type": "code",
   "execution_count": 3,
   "metadata": {
    "collapsed": true
   },
   "outputs": [],
   "source": [
    "#importing libraries\n",
    "import pandas as pd\n",
    "import numpy as np"
   ]
  },
  {
   "cell_type": "code",
   "execution_count": 4,
   "metadata": {
    "collapsed": true
   },
   "outputs": [],
   "source": [
    "from matplotlib import pyplot as plt\n",
    "import seaborn as sns\n",
    "%matplotlib inline\n",
    "import warnings\n",
    "warnings.filterwarnings('ignore')"
   ]
  },
  {
   "cell_type": "code",
   "execution_count": 26,
   "metadata": {
    "collapsed": true
   },
   "outputs": [],
   "source": [
    "#reading trainingdataset\n",
    "data = pd.read_csv(\"trainingData.csv\")"
   ]
  },
  {
   "cell_type": "code",
   "execution_count": 9,
   "metadata": {
    "scrolled": false
   },
   "outputs": [
    {
     "data": {
      "text/html": [
       "<div>\n",
       "<style scoped>\n",
       "    .dataframe tbody tr th:only-of-type {\n",
       "        vertical-align: middle;\n",
       "    }\n",
       "\n",
       "    .dataframe tbody tr th {\n",
       "        vertical-align: top;\n",
       "    }\n",
       "\n",
       "    .dataframe thead th {\n",
       "        text-align: right;\n",
       "    }\n",
       "</style>\n",
       "<table border=\"1\" class=\"dataframe\">\n",
       "  <thead>\n",
       "    <tr style=\"text-align: right;\">\n",
       "      <th></th>\n",
       "      <th>Id</th>\n",
       "      <th>city</th>\n",
       "      <th>age</th>\n",
       "      <th>sex</th>\n",
       "      <th>social_class</th>\n",
       "      <th>primary_business</th>\n",
       "      <th>secondary_business</th>\n",
       "      <th>annual_income</th>\n",
       "      <th>monthly_expenses</th>\n",
       "      <th>old_dependents</th>\n",
       "      <th>...</th>\n",
       "      <th>home_ownership</th>\n",
       "      <th>type_of_house</th>\n",
       "      <th>occupants_count</th>\n",
       "      <th>house_area</th>\n",
       "      <th>sanitary_availability</th>\n",
       "      <th>water_availabity</th>\n",
       "      <th>loan_purpose</th>\n",
       "      <th>loan_tenure</th>\n",
       "      <th>loan_installments</th>\n",
       "      <th>loan_amount</th>\n",
       "    </tr>\n",
       "  </thead>\n",
       "  <tbody>\n",
       "    <tr>\n",
       "      <th>0</th>\n",
       "      <td>1</td>\n",
       "      <td>Dhanbad</td>\n",
       "      <td>22</td>\n",
       "      <td>F</td>\n",
       "      <td>Mochi</td>\n",
       "      <td>Tailoring</td>\n",
       "      <td>Others</td>\n",
       "      <td>36000.0</td>\n",
       "      <td>5000.0</td>\n",
       "      <td>0</td>\n",
       "      <td>...</td>\n",
       "      <td>1.0</td>\n",
       "      <td>R</td>\n",
       "      <td>4</td>\n",
       "      <td>70.0</td>\n",
       "      <td>1.0</td>\n",
       "      <td>0.5</td>\n",
       "      <td>Apparels</td>\n",
       "      <td>12</td>\n",
       "      <td>12</td>\n",
       "      <td>5000.0</td>\n",
       "    </tr>\n",
       "    <tr>\n",
       "      <th>1</th>\n",
       "      <td>2</td>\n",
       "      <td>Manjapra</td>\n",
       "      <td>21</td>\n",
       "      <td>F</td>\n",
       "      <td>OBC</td>\n",
       "      <td>Tailoring</td>\n",
       "      <td>none</td>\n",
       "      <td>94000.0</td>\n",
       "      <td>3600.0</td>\n",
       "      <td>1</td>\n",
       "      <td>...</td>\n",
       "      <td>1.0</td>\n",
       "      <td>T1</td>\n",
       "      <td>4</td>\n",
       "      <td>80.0</td>\n",
       "      <td>1.0</td>\n",
       "      <td>0.5</td>\n",
       "      <td>Apparels</td>\n",
       "      <td>12</td>\n",
       "      <td>50</td>\n",
       "      <td>7500.0</td>\n",
       "    </tr>\n",
       "    <tr>\n",
       "      <th>2</th>\n",
       "      <td>3</td>\n",
       "      <td>Dhanbad</td>\n",
       "      <td>24</td>\n",
       "      <td>M</td>\n",
       "      <td>Nai</td>\n",
       "      <td>Beauty salon</td>\n",
       "      <td>Others</td>\n",
       "      <td>48000.0</td>\n",
       "      <td>4000.0</td>\n",
       "      <td>0</td>\n",
       "      <td>...</td>\n",
       "      <td>1.0</td>\n",
       "      <td>T1</td>\n",
       "      <td>4</td>\n",
       "      <td>50.0</td>\n",
       "      <td>1.0</td>\n",
       "      <td>0.5</td>\n",
       "      <td>Beauty Salon</td>\n",
       "      <td>12</td>\n",
       "      <td>12</td>\n",
       "      <td>5000.0</td>\n",
       "    </tr>\n",
       "    <tr>\n",
       "      <th>3</th>\n",
       "      <td>4</td>\n",
       "      <td>NaN</td>\n",
       "      <td>26</td>\n",
       "      <td>F</td>\n",
       "      <td>OBC</td>\n",
       "      <td>Tailoring</td>\n",
       "      <td>none</td>\n",
       "      <td>7000.0</td>\n",
       "      <td>5000.0</td>\n",
       "      <td>0</td>\n",
       "      <td>...</td>\n",
       "      <td>1.0</td>\n",
       "      <td>T1</td>\n",
       "      <td>5</td>\n",
       "      <td>50.0</td>\n",
       "      <td>1.0</td>\n",
       "      <td>0.5</td>\n",
       "      <td>Apparels</td>\n",
       "      <td>12</td>\n",
       "      <td>50</td>\n",
       "      <td>7500.0</td>\n",
       "    </tr>\n",
       "    <tr>\n",
       "      <th>4</th>\n",
       "      <td>5</td>\n",
       "      <td>Nuapada</td>\n",
       "      <td>23</td>\n",
       "      <td>F</td>\n",
       "      <td>OBC</td>\n",
       "      <td>General store</td>\n",
       "      <td>Agriculture</td>\n",
       "      <td>36000.0</td>\n",
       "      <td>3500.0</td>\n",
       "      <td>0</td>\n",
       "      <td>...</td>\n",
       "      <td>1.0</td>\n",
       "      <td>T1</td>\n",
       "      <td>1</td>\n",
       "      <td>112.0</td>\n",
       "      <td>1.0</td>\n",
       "      <td>0.5</td>\n",
       "      <td>Retail Store</td>\n",
       "      <td>12</td>\n",
       "      <td>12</td>\n",
       "      <td>5000.0</td>\n",
       "    </tr>\n",
       "    <tr>\n",
       "      <th>...</th>\n",
       "      <td>...</td>\n",
       "      <td>...</td>\n",
       "      <td>...</td>\n",
       "      <td>...</td>\n",
       "      <td>...</td>\n",
       "      <td>...</td>\n",
       "      <td>...</td>\n",
       "      <td>...</td>\n",
       "      <td>...</td>\n",
       "      <td>...</td>\n",
       "      <td>...</td>\n",
       "      <td>...</td>\n",
       "      <td>...</td>\n",
       "      <td>...</td>\n",
       "      <td>...</td>\n",
       "      <td>...</td>\n",
       "      <td>...</td>\n",
       "      <td>...</td>\n",
       "      <td>...</td>\n",
       "      <td>...</td>\n",
       "      <td>...</td>\n",
       "    </tr>\n",
       "    <tr>\n",
       "      <th>39995</th>\n",
       "      <td>39996</td>\n",
       "      <td>Pusad</td>\n",
       "      <td>45</td>\n",
       "      <td>F</td>\n",
       "      <td>Muslim</td>\n",
       "      <td>Buffalo rearing</td>\n",
       "      <td>none</td>\n",
       "      <td>78000.0</td>\n",
       "      <td>4000.0</td>\n",
       "      <td>0</td>\n",
       "      <td>...</td>\n",
       "      <td>1.0</td>\n",
       "      <td>T2</td>\n",
       "      <td>2</td>\n",
       "      <td>600.0</td>\n",
       "      <td>1.0</td>\n",
       "      <td>1.0</td>\n",
       "      <td>Animal husbandry</td>\n",
       "      <td>12</td>\n",
       "      <td>12</td>\n",
       "      <td>8000.0</td>\n",
       "    </tr>\n",
       "    <tr>\n",
       "      <th>39996</th>\n",
       "      <td>39997</td>\n",
       "      <td>Pusad</td>\n",
       "      <td>35</td>\n",
       "      <td>F</td>\n",
       "      <td>ST</td>\n",
       "      <td>Tailoring</td>\n",
       "      <td>none</td>\n",
       "      <td>48000.0</td>\n",
       "      <td>4000.0</td>\n",
       "      <td>0</td>\n",
       "      <td>...</td>\n",
       "      <td>1.0</td>\n",
       "      <td>T2</td>\n",
       "      <td>4</td>\n",
       "      <td>800.0</td>\n",
       "      <td>1.0</td>\n",
       "      <td>1.0</td>\n",
       "      <td>Apparels</td>\n",
       "      <td>12</td>\n",
       "      <td>12</td>\n",
       "      <td>8000.0</td>\n",
       "    </tr>\n",
       "    <tr>\n",
       "      <th>39997</th>\n",
       "      <td>39998</td>\n",
       "      <td>Pusad</td>\n",
       "      <td>35</td>\n",
       "      <td>F</td>\n",
       "      <td>Sc</td>\n",
       "      <td>Goat rearing</td>\n",
       "      <td>none</td>\n",
       "      <td>48000.0</td>\n",
       "      <td>3500.0</td>\n",
       "      <td>0</td>\n",
       "      <td>...</td>\n",
       "      <td>1.0</td>\n",
       "      <td>T2</td>\n",
       "      <td>3</td>\n",
       "      <td>600.0</td>\n",
       "      <td>1.0</td>\n",
       "      <td>1.0</td>\n",
       "      <td>Meat Businesses</td>\n",
       "      <td>12</td>\n",
       "      <td>12</td>\n",
       "      <td>8000.0</td>\n",
       "    </tr>\n",
       "    <tr>\n",
       "      <th>39998</th>\n",
       "      <td>39999</td>\n",
       "      <td>Pusad</td>\n",
       "      <td>28</td>\n",
       "      <td>F</td>\n",
       "      <td>Sc</td>\n",
       "      <td>Goat rearing</td>\n",
       "      <td>none</td>\n",
       "      <td>48000.0</td>\n",
       "      <td>4000.0</td>\n",
       "      <td>0</td>\n",
       "      <td>...</td>\n",
       "      <td>1.0</td>\n",
       "      <td>T2</td>\n",
       "      <td>4</td>\n",
       "      <td>600.0</td>\n",
       "      <td>1.0</td>\n",
       "      <td>1.0</td>\n",
       "      <td>Meat Businesses</td>\n",
       "      <td>12</td>\n",
       "      <td>12</td>\n",
       "      <td>8000.0</td>\n",
       "    </tr>\n",
       "    <tr>\n",
       "      <th>39999</th>\n",
       "      <td>40000</td>\n",
       "      <td>Pusad</td>\n",
       "      <td>32</td>\n",
       "      <td>F</td>\n",
       "      <td>Sc</td>\n",
       "      <td>Goat rearing</td>\n",
       "      <td>none</td>\n",
       "      <td>72000.0</td>\n",
       "      <td>4500.0</td>\n",
       "      <td>0</td>\n",
       "      <td>...</td>\n",
       "      <td>1.0</td>\n",
       "      <td>T2</td>\n",
       "      <td>4</td>\n",
       "      <td>600.0</td>\n",
       "      <td>1.0</td>\n",
       "      <td>1.0</td>\n",
       "      <td>Meat Businesses</td>\n",
       "      <td>12</td>\n",
       "      <td>12</td>\n",
       "      <td>8000.0</td>\n",
       "    </tr>\n",
       "  </tbody>\n",
       "</table>\n",
       "<p>40000 rows × 21 columns</p>\n",
       "</div>"
      ],
      "text/plain": [
       "          Id      city  age sex social_class primary_business  \\\n",
       "0          1   Dhanbad   22   F        Mochi        Tailoring   \n",
       "1          2  Manjapra   21   F          OBC        Tailoring   \n",
       "2          3   Dhanbad   24   M          Nai     Beauty salon   \n",
       "3          4       NaN   26   F          OBC        Tailoring   \n",
       "4          5   Nuapada   23   F          OBC    General store   \n",
       "...      ...       ...  ...  ..          ...              ...   \n",
       "39995  39996     Pusad   45   F       Muslim  Buffalo rearing   \n",
       "39996  39997     Pusad   35   F           ST        Tailoring   \n",
       "39997  39998     Pusad   35   F           Sc     Goat rearing   \n",
       "39998  39999     Pusad   28   F           Sc     Goat rearing   \n",
       "39999  40000     Pusad   32   F           Sc     Goat rearing   \n",
       "\n",
       "      secondary_business  annual_income  monthly_expenses  old_dependents  \\\n",
       "0                 Others        36000.0            5000.0               0   \n",
       "1                   none        94000.0            3600.0               1   \n",
       "2                 Others        48000.0            4000.0               0   \n",
       "3                   none         7000.0            5000.0               0   \n",
       "4            Agriculture        36000.0            3500.0               0   \n",
       "...                  ...            ...               ...             ...   \n",
       "39995               none        78000.0            4000.0               0   \n",
       "39996               none        48000.0            4000.0               0   \n",
       "39997               none        48000.0            3500.0               0   \n",
       "39998               none        48000.0            4000.0               0   \n",
       "39999               none        72000.0            4500.0               0   \n",
       "\n",
       "       ...  home_ownership  type_of_house occupants_count  house_area  \\\n",
       "0      ...             1.0              R               4        70.0   \n",
       "1      ...             1.0             T1               4        80.0   \n",
       "2      ...             1.0             T1               4        50.0   \n",
       "3      ...             1.0             T1               5        50.0   \n",
       "4      ...             1.0             T1               1       112.0   \n",
       "...    ...             ...            ...             ...         ...   \n",
       "39995  ...             1.0             T2               2       600.0   \n",
       "39996  ...             1.0             T2               4       800.0   \n",
       "39997  ...             1.0             T2               3       600.0   \n",
       "39998  ...             1.0             T2               4       600.0   \n",
       "39999  ...             1.0             T2               4       600.0   \n",
       "\n",
       "       sanitary_availability  water_availabity      loan_purpose loan_tenure  \\\n",
       "0                        1.0               0.5          Apparels          12   \n",
       "1                        1.0               0.5          Apparels          12   \n",
       "2                        1.0               0.5      Beauty Salon          12   \n",
       "3                        1.0               0.5          Apparels          12   \n",
       "4                        1.0               0.5      Retail Store          12   \n",
       "...                      ...               ...               ...         ...   \n",
       "39995                    1.0               1.0  Animal husbandry          12   \n",
       "39996                    1.0               1.0          Apparels          12   \n",
       "39997                    1.0               1.0   Meat Businesses          12   \n",
       "39998                    1.0               1.0   Meat Businesses          12   \n",
       "39999                    1.0               1.0   Meat Businesses          12   \n",
       "\n",
       "       loan_installments  loan_amount  \n",
       "0                     12       5000.0  \n",
       "1                     50       7500.0  \n",
       "2                     12       5000.0  \n",
       "3                     50       7500.0  \n",
       "4                     12       5000.0  \n",
       "...                  ...          ...  \n",
       "39995                 12       8000.0  \n",
       "39996                 12       8000.0  \n",
       "39997                 12       8000.0  \n",
       "39998                 12       8000.0  \n",
       "39999                 12       8000.0  \n",
       "\n",
       "[40000 rows x 21 columns]"
      ]
     },
     "execution_count": 9,
     "metadata": {},
     "output_type": "execute_result"
    }
   ],
   "source": [
    "data"
   ]
  },
  {
   "cell_type": "code",
   "execution_count": 27,
   "metadata": {
    "collapsed": true
   },
   "outputs": [],
   "source": [
    "#creating copy of data with naming dataset\n",
    "dataset = data.copy()"
   ]
  },
  {
   "cell_type": "code",
   "execution_count": 8,
   "metadata": {},
   "outputs": [
    {
     "data": {
      "text/plain": [
       "Index(['Id', 'city', 'age', 'sex', 'social_class', 'primary_business',\n",
       "       'secondary_business', 'annual_income', 'monthly_expenses',\n",
       "       'old_dependents', 'young_dependents', 'home_ownership', 'type_of_house',\n",
       "       'occupants_count', 'house_area', 'sanitary_availability',\n",
       "       'water_availabity', 'loan_purpose', 'loan_tenure', 'loan_installments',\n",
       "       'loan_amount'],\n",
       "      dtype='object')"
      ]
     },
     "execution_count": 8,
     "metadata": {},
     "output_type": "execute_result"
    }
   ],
   "source": [
    "#finding name of the columns\n",
    "data.columns"
   ]
  },
  {
   "cell_type": "code",
   "execution_count": 9,
   "metadata": {},
   "outputs": [
    {
     "name": "stdout",
     "output_type": "stream",
     "text": [
      "<class 'pandas.core.frame.DataFrame'>\n",
      "RangeIndex: 40000 entries, 0 to 39999\n",
      "Data columns (total 21 columns):\n",
      "Id                       40000 non-null int64\n",
      "city                     38136 non-null object\n",
      "age                      40000 non-null int64\n",
      "sex                      40000 non-null object\n",
      "social_class             34745 non-null object\n",
      "primary_business         39974 non-null object\n",
      "secondary_business       34759 non-null object\n",
      "annual_income            40000 non-null float64\n",
      "monthly_expenses         39880 non-null float64\n",
      "old_dependents           40000 non-null int64\n",
      "young_dependents         40000 non-null int64\n",
      "home_ownership           39621 non-null float64\n",
      "type_of_house            39306 non-null object\n",
      "occupants_count          40000 non-null int64\n",
      "house_area               40000 non-null float64\n",
      "sanitary_availability    39792 non-null float64\n",
      "water_availabity         34747 non-null float64\n",
      "loan_purpose             39974 non-null object\n",
      "loan_tenure              40000 non-null int64\n",
      "loan_installments        40000 non-null int64\n",
      "loan_amount              40000 non-null float64\n",
      "dtypes: float64(7), int64(7), object(7)\n",
      "memory usage: 5.3+ MB\n"
     ]
    }
   ],
   "source": [
    "#finding data types of each variables\n",
    "data.info()"
   ]
  },
  {
   "cell_type": "code",
   "execution_count": 24,
   "metadata": {
    "collapsed": true
   },
   "outputs": [],
   "source": [
    "#finding mean of data variables\n",
    "data_mean=data[[\"annual_income\",\"monthly_expenses\",\"occupants_count\",\"house_area\",\"loan_installments\",\"loan_amount\"]].mean()"
   ]
  },
  {
   "cell_type": "code",
   "execution_count": 25,
   "metadata": {},
   "outputs": [
    {
     "name": "stdout",
     "output_type": "stream",
     "text": [
      "annual_income        37640.214425\n",
      "monthly_expenses      3808.442775\n",
      "occupants_count         26.641000\n",
      "house_area             552.804750\n",
      "loan_installments       21.761175\n",
      "loan_amount           8412.592500\n",
      "dtype: float64\n"
     ]
    }
   ],
   "source": [
    "print(data_mean)"
   ]
  },
  {
   "cell_type": "code",
   "execution_count": 12,
   "metadata": {
    "collapsed": true
   },
   "outputs": [],
   "source": [
    "#finding meadian of data variables\n",
    "data_median=data[[\"age\",\"annual_income\",\"monthly_expenses\",\"old_dependents\",\"occupants_count\",\"home_ownership\",\"house_area\",\"loan_tenure\",\"loan_installments\",\"loan_amount\"]].median()"
   ]
  },
  {
   "cell_type": "code",
   "execution_count": 15,
   "metadata": {},
   "outputs": [
    {
     "data": {
      "text/plain": [
       "age                     35.0\n",
       "annual_income        36000.0\n",
       "monthly_expenses      3500.0\n",
       "old_dependents           0.0\n",
       "occupants_count          3.0\n",
       "home_ownership           1.0\n",
       "house_area             400.0\n",
       "loan_tenure             12.0\n",
       "loan_installments       12.0\n",
       "loan_amount           8000.0\n",
       "dtype: float64"
      ]
     },
     "execution_count": 15,
     "metadata": {},
     "output_type": "execute_result"
    }
   ],
   "source": [
    "data_median"
   ]
  },
  {
   "cell_type": "code",
   "execution_count": 13,
   "metadata": {
    "collapsed": true
   },
   "outputs": [],
   "source": [
    "#finding mode of data variables\n",
    "data_mode=data[[\"city\",\"age\",\"sex\",\"social_class\",\"primary_business\",\"secondary_business\",\"annual_income\",\"monthly_expenses\",\"old_dependents\",\"young_dependents\",\"home_ownership\",\"type_of_house\",\"occupants_count\",\"house_area\",\"sanitary_availability\",\"water_availabity\",\"loan_purpose\",\"loan_tenure\",\"loan_installments\",\"loan_amount\"]].mode()"
   ]
  },
  {
   "cell_type": "code",
   "execution_count": 14,
   "metadata": {},
   "outputs": [
    {
     "data": {
      "text/html": [
       "<div>\n",
       "<style>\n",
       "    .dataframe thead tr:only-child th {\n",
       "        text-align: right;\n",
       "    }\n",
       "\n",
       "    .dataframe thead th {\n",
       "        text-align: left;\n",
       "    }\n",
       "\n",
       "    .dataframe tbody tr th {\n",
       "        vertical-align: top;\n",
       "    }\n",
       "</style>\n",
       "<table border=\"1\" class=\"dataframe\">\n",
       "  <thead>\n",
       "    <tr style=\"text-align: right;\">\n",
       "      <th></th>\n",
       "      <th>city</th>\n",
       "      <th>age</th>\n",
       "      <th>sex</th>\n",
       "      <th>social_class</th>\n",
       "      <th>primary_business</th>\n",
       "      <th>secondary_business</th>\n",
       "      <th>annual_income</th>\n",
       "      <th>monthly_expenses</th>\n",
       "      <th>old_dependents</th>\n",
       "      <th>young_dependents</th>\n",
       "      <th>home_ownership</th>\n",
       "      <th>type_of_house</th>\n",
       "      <th>occupants_count</th>\n",
       "      <th>house_area</th>\n",
       "      <th>sanitary_availability</th>\n",
       "      <th>water_availabity</th>\n",
       "      <th>loan_purpose</th>\n",
       "      <th>loan_tenure</th>\n",
       "      <th>loan_installments</th>\n",
       "      <th>loan_amount</th>\n",
       "    </tr>\n",
       "  </thead>\n",
       "  <tbody>\n",
       "    <tr>\n",
       "      <th>0</th>\n",
       "      <td>Pusad</td>\n",
       "      <td>35</td>\n",
       "      <td>F</td>\n",
       "      <td>OBC</td>\n",
       "      <td>Tailoring</td>\n",
       "      <td>none</td>\n",
       "      <td>0.0</td>\n",
       "      <td>3000.0</td>\n",
       "      <td>0</td>\n",
       "      <td>0</td>\n",
       "      <td>1.0</td>\n",
       "      <td>T2</td>\n",
       "      <td>4</td>\n",
       "      <td>0.0</td>\n",
       "      <td>1.0</td>\n",
       "      <td>1.0</td>\n",
       "      <td>Apparels</td>\n",
       "      <td>12</td>\n",
       "      <td>12</td>\n",
       "      <td>5000.0</td>\n",
       "    </tr>\n",
       "  </tbody>\n",
       "</table>\n",
       "</div>"
      ],
      "text/plain": [
       "    city  age sex social_class primary_business secondary_business  \\\n",
       "0  Pusad   35   F          OBC        Tailoring               none   \n",
       "\n",
       "   annual_income  monthly_expenses  old_dependents  young_dependents  \\\n",
       "0            0.0            3000.0               0                 0   \n",
       "\n",
       "   home_ownership type_of_house  occupants_count  house_area  \\\n",
       "0             1.0            T2                4         0.0   \n",
       "\n",
       "   sanitary_availability  water_availabity loan_purpose  loan_tenure  \\\n",
       "0                    1.0               1.0     Apparels           12   \n",
       "\n",
       "   loan_installments  loan_amount  \n",
       "0                 12       5000.0  "
      ]
     },
     "execution_count": 14,
     "metadata": {},
     "output_type": "execute_result"
    }
   ],
   "source": [
    "data_mode"
   ]
  },
  {
   "cell_type": "code",
   "execution_count": 17,
   "metadata": {
    "collapsed": true
   },
   "outputs": [],
   "source": [
    "#finding maximum value of float type data variables\n",
    "data_max=data[[\"annual_income\",\"monthly_expenses\",\"young_dependents\",\"old_dependents\",\"house_area\",\"loan_amount\"]].max()"
   ]
  },
  {
   "cell_type": "code",
   "execution_count": 19,
   "metadata": {},
   "outputs": [
    {
     "data": {
      "text/plain": [
       "annual_income       1200000.0\n",
       "monthly_expenses     240000.0\n",
       "young_dependents          7.0\n",
       "old_dependents            3.0\n",
       "house_area           700000.0\n",
       "loan_amount         1343000.0\n",
       "dtype: float64"
      ]
     },
     "execution_count": 19,
     "metadata": {},
     "output_type": "execute_result"
    }
   ],
   "source": [
    "data_max"
   ]
  },
  {
   "cell_type": "code",
   "execution_count": 20,
   "metadata": {
    "collapsed": true
   },
   "outputs": [],
   "source": [
    "#finding mainimum of float type data variables\n",
    "data_min=data[[\"annual_income\",\"monthly_expenses\",\"occupants_count\",\"house_area\",\"loan_installments\",\"loan_amount\"]].min()"
   ]
  },
  {
   "cell_type": "code",
   "execution_count": 21,
   "metadata": {},
   "outputs": [
    {
     "data": {
      "text/plain": [
       "annual_income          0.0\n",
       "monthly_expenses       2.0\n",
       "occupants_count        0.0\n",
       "house_area             0.0\n",
       "loan_installments      0.0\n",
       "loan_amount          100.0\n",
       "dtype: float64"
      ]
     },
     "execution_count": 21,
     "metadata": {},
     "output_type": "execute_result"
    }
   ],
   "source": [
    "data_min"
   ]
  },
  {
   "cell_type": "code",
   "execution_count": 22,
   "metadata": {},
   "outputs": [
    {
     "data": {
      "text/plain": [
       "OBC                10683\n",
       "SC                  3136\n",
       "ST                  2616\n",
       "General             2299\n",
       "Muslim              1743\n",
       "S.C                  950\n",
       "Minority             892\n",
       "Hindu                869\n",
       "GC                   807\n",
       "Sechudle Caste       769\n",
       "G.C                  735\n",
       "S.C.                 529\n",
       "Sc                   432\n",
       "GEN                  413\n",
       "Obc                  399\n",
       "MUSLIM               375\n",
       "NT                   373\n",
       "BC                   337\n",
       "General Caste        290\n",
       "Gen                  288\n",
       "S.c                  244\n",
       "VJNT                 229\n",
       "GENERAL              215\n",
       "Mahar                194\n",
       "Open                 190\n",
       "Lingahitha           180\n",
       "Christian            174\n",
       "Ezhava               170\n",
       "S.T.                 166\n",
       "Schudle Cast         160\n",
       "                   ...  \n",
       "V.J.N.T.               1\n",
       "Kumbarshetty           1\n",
       "Pashi                  1\n",
       "parmar                 1\n",
       "Pardeshi               1\n",
       "Nadar                  1\n",
       "Ganigashetty           1\n",
       "Braman                 1\n",
       "42                     1\n",
       "OBC`                   1\n",
       "Teluga shetty          1\n",
       "Thelugasetty           1\n",
       "Gten                   1\n",
       "Telagu  Kamathi        1\n",
       "Vadavar                1\n",
       "Broman                 1\n",
       "TRIBAL                 1\n",
       "ABC                    1\n",
       "Veerashyva             1\n",
       "Methar                 1\n",
       "Gorai                  1\n",
       "MEENDA                 1\n",
       "Ezhuva                 1\n",
       "dholi                  1\n",
       "Gujrathi               1\n",
       "Sechudle Tribe         1\n",
       "Nahavi                 1\n",
       "MAHAR                  1\n",
       "Vaishnavi              1\n",
       "Mannar                 1\n",
       "Name: social_class, Length: 519, dtype: int64"
      ]
     },
     "execution_count": 22,
     "metadata": {},
     "output_type": "execute_result"
    }
   ],
   "source": [
    "#counting values in each type of social class\n",
    "data['social_class'].value_counts()"
   ]
  },
  {
   "cell_type": "code",
   "execution_count": 23,
   "metadata": {},
   "outputs": [
    {
     "data": {
      "text/plain": [
       "35        2548\n",
       "40        2514\n",
       "30        2331\n",
       "45        1889\n",
       "32        1642\n",
       "38        1534\n",
       "25        1524\n",
       "28        1498\n",
       "36        1409\n",
       "26        1330\n",
       "42        1290\n",
       "27        1212\n",
       "37        1197\n",
       "34        1142\n",
       "29        1125\n",
       "33        1123\n",
       "39        1028\n",
       "31        1026\n",
       "41         998\n",
       "43         984\n",
       "24         936\n",
       "46         912\n",
       "48         878\n",
       "44         816\n",
       "23         788\n",
       "22         788\n",
       "50         739\n",
       "47         733\n",
       "49         518\n",
       "21         499\n",
       "          ... \n",
       "52         377\n",
       "53         347\n",
       "55         301\n",
       "54         247\n",
       "19         191\n",
       "56         157\n",
       "57         117\n",
       "58         102\n",
       "18          93\n",
       "59          78\n",
       "60          51\n",
       "61          22\n",
       "62          19\n",
       "65          18\n",
       "64          11\n",
       "67          10\n",
       "63           9\n",
       "69           5\n",
       "70           5\n",
       "68           4\n",
       "66           3\n",
       "2            2\n",
       "766105       1\n",
       "88           1\n",
       "72           1\n",
       "82           1\n",
       "74           1\n",
       "288          1\n",
       "75           1\n",
       "205          1\n",
       "Name: age, Length: 62, dtype: int64"
      ]
     },
     "execution_count": 23,
     "metadata": {},
     "output_type": "execute_result"
    }
   ],
   "source": [
    "#counting values under each age\n",
    "data['age'].value_counts()"
   ]
  },
  {
   "cell_type": "code",
   "execution_count": 24,
   "metadata": {},
   "outputs": [
    {
     "data": {
      "text/plain": [
       "F     37622\n",
       "M      2371\n",
       "TG        7\n",
       "Name: sex, dtype: int64"
      ]
     },
     "execution_count": 24,
     "metadata": {},
     "output_type": "execute_result"
    }
   ],
   "source": [
    "#counting values as male and females from sex column\n",
    "data['sex'].value_counts()"
   ]
  },
  {
   "cell_type": "code",
   "execution_count": 25,
   "metadata": {},
   "outputs": [
    {
     "data": {
      "text/plain": [
       "0    38331\n",
       "1     1543\n",
       "2      125\n",
       "3        1\n",
       "Name: old_dependents, dtype: int64"
      ]
     },
     "execution_count": 25,
     "metadata": {},
     "output_type": "execute_result"
    }
   ],
   "source": [
    "#counting values of old dependents\n",
    "data['old_dependents'].value_counts()"
   ]
  },
  {
   "cell_type": "code",
   "execution_count": 26,
   "metadata": {},
   "outputs": [
    {
     "data": {
      "text/plain": [
       "0    14777\n",
       "2    11384\n",
       "1     9837\n",
       "3     3269\n",
       "4      620\n",
       "5       90\n",
       "6       19\n",
       "7        4\n",
       "Name: young_dependents, dtype: int64"
      ]
     },
     "execution_count": 26,
     "metadata": {},
     "output_type": "execute_result"
    }
   ],
   "source": [
    "#counting values of young dependents\n",
    "data['young_dependents'].value_counts()"
   ]
  },
  {
   "cell_type": "code",
   "execution_count": 27,
   "metadata": {},
   "outputs": [
    {
     "data": {
      "text/plain": [
       "Tailoring                                      3971\n",
       "Goat rearing                                   2268\n",
       "Cow Rearing                                    2077\n",
       "Handloom Work                                  2068\n",
       "Vegetable cultivation                          1704\n",
       "Grocery store                                  1369\n",
       "School                                         1332\n",
       "Milk business                                  1310\n",
       "Vegetable vendor                               1174\n",
       "Weaver                                         1157\n",
       "Saree business                                 1000\n",
       "Embroidery work                                 942\n",
       "Fish rearing                                    735\n",
       "Poultry farm                                    726\n",
       "Rice business                                   678\n",
       "General store                                   661\n",
       "Cloth business                                  609\n",
       "Paddy cultivation                               594\n",
       "Education Loan                                  557\n",
       "Buffalo rearing                                 500\n",
       "Beedi rolling business                          479\n",
       "Gram cultivation                                416\n",
       "Paddy processing                                402\n",
       "Cattle rearing                                  346\n",
       "Thread making                                   338\n",
       "Petty shop                                      331\n",
       "Betel shop                                      326\n",
       "Tea stall                                       320\n",
       "Fruits business                                 314\n",
       "Cash crops                                      311\n",
       "                                               ... \n",
       "FUNNEL TOOL MAKING                                1\n",
       "Agarbati making and selling                       1\n",
       "tamarind business                                 1\n",
       "Pickle Making                                     1\n",
       "Pickles Business                                  1\n",
       "Tea Packet Making                                 1\n",
       "Sugercane                                         1\n",
       "For making the furniture in coaching center       1\n",
       "Cow Feed Selling                                  1\n",
       "Saree knitting works                              1\n",
       "Cashew Deshelling                                 1\n",
       "Ration Shop                                       1\n",
       "Cycle Shop                                        1\n",
       "Ginder                                            1\n",
       "Rangoli sale                                      1\n",
       "cotton business                                   1\n",
       "Leather work                                      1\n",
       "Spare parts manufacturers                         1\n",
       "Disposal utensil selling shop                     1\n",
       "labour work                                       1\n",
       "Shoes center                                      1\n",
       "Mediciene                                         1\n",
       "cable operator for TV                             1\n",
       "Mandap decoration                                 1\n",
       "rent of Vibrate machine                           1\n",
       "Coffee Business                                   1\n",
       "loading Rickshaw                                  1\n",
       "Marbel Cutting Business                           1\n",
       "DRY CLEANING BUSINESS                             1\n",
       "Manufacturing unit                                1\n",
       "Name: primary_business, Length: 441, dtype: int64"
      ]
     },
     "execution_count": 27,
     "metadata": {},
     "output_type": "execute_result"
    }
   ],
   "source": [
    "#counting values in each primary business\n",
    "data['primary_business'].value_counts()"
   ]
  },
  {
   "cell_type": "code",
   "execution_count": 28,
   "metadata": {},
   "outputs": [
    {
     "data": {
      "text/plain": [
       "none                   27366\n",
       "Others                  2564\n",
       "Daily wage labourer     2545\n",
       "Agriculture             2105\n",
       "Livestock rearing        179\n",
       "Name: secondary_business, dtype: int64"
      ]
     },
     "execution_count": 28,
     "metadata": {},
     "output_type": "execute_result"
    }
   ],
   "source": [
    "#counting values in each secondary business\n",
    "data['secondary_business'].value_counts()"
   ]
  },
  {
   "cell_type": "code",
   "execution_count": 30,
   "metadata": {},
   "outputs": [
    {
     "data": {
      "text/plain": [
       "4         10331\n",
       "2          9461\n",
       "3          8611\n",
       "0          5268\n",
       "5          2914\n",
       "1          2454\n",
       "6           689\n",
       "7           154\n",
       "8            57\n",
       "10           26\n",
       "9            16\n",
       "600           5\n",
       "12            2\n",
       "300           2\n",
       "15            2\n",
       "700           1\n",
       "11            1\n",
       "900           1\n",
       "100           1\n",
       "400           1\n",
       "450           1\n",
       "250           1\n",
       "950000        1\n",
       "Name: occupants_count, dtype: int64"
      ]
     },
     "execution_count": 30,
     "metadata": {},
     "output_type": "execute_result"
    }
   ],
   "source": [
    "#counting values of occupants_count\n",
    "data['occupants_count'].value_counts()"
   ]
  },
  {
   "cell_type": "code",
   "execution_count": 31,
   "metadata": {},
   "outputs": [
    {
     "data": {
      "text/plain": [
       "T2    17715\n",
       "T1    15092\n",
       "R      6499\n",
       "Name: type_of_house, dtype: int64"
      ]
     },
     "execution_count": 31,
     "metadata": {},
     "output_type": "execute_result"
    }
   ],
   "source": [
    "#counting values under each type of houses\n",
    "data['type_of_house'].value_counts()"
   ]
  },
  {
   "cell_type": "code",
   "execution_count": 32,
   "metadata": {},
   "outputs": [
    {
     "data": {
      "text/plain": [
       " 1.0    27313\n",
       " 0.0    12478\n",
       "-1.0        1\n",
       "Name: sanitary_availability, dtype: int64"
      ]
     },
     "execution_count": 32,
     "metadata": {},
     "output_type": "execute_result"
    }
   ],
   "source": [
    "#counting values of sanitary_availability\n",
    "data['sanitary_availability'].value_counts()"
   ]
  },
  {
   "cell_type": "code",
   "execution_count": 34,
   "metadata": {},
   "outputs": [
    {
     "data": {
      "text/plain": [
       " 1.0    17782\n",
       " 0.5    16782\n",
       " 0.0      182\n",
       "-1.0        1\n",
       "Name: water_availabity, dtype: int64"
      ]
     },
     "execution_count": 34,
     "metadata": {},
     "output_type": "execute_result"
    }
   ],
   "source": [
    "#counting values of water_availability\n",
    "data['water_availabity'].value_counts()"
   ]
  },
  {
   "cell_type": "code",
   "execution_count": 35,
   "metadata": {},
   "outputs": [
    {
     "data": {
      "text/plain": [
       "Apparels                           7064\n",
       "Agro Based Businesses              4729\n",
       "Animal husbandry                   4421\n",
       "Meat Businesses                    4302\n",
       "Handicrafts                        4230\n",
       "Farming/ Agriculture               3284\n",
       "Education Loan                     2100\n",
       "Retail Store                       1963\n",
       "Eateries                           1831\n",
       "Business Services - II              854\n",
       "Tobacco Related Activities          853\n",
       "Construction Related Activities     661\n",
       "Retail Sale                         614\n",
       "Artifical Jewellry Selling          556\n",
       "Carpentery work                     299\n",
       "Food Items                          285\n",
       "Business Services - I               276\n",
       "Transportation Services             245\n",
       "Flower Business                     238\n",
       "Beauty Salon                        204\n",
       "Repair Services                     192\n",
       "Laundry Services                    162\n",
       "Agarbatti Business                  107\n",
       "Utensil Selling                     104\n",
       "Sanitation                          101\n",
       "Recycling/ Waste Management         100\n",
       "Others                               62\n",
       "Vocational Loans                     40\n",
       "Jewellry Shop                        30\n",
       "Training                             23\n",
       "Miscellaneous                        19\n",
       "Cyber Caf_                            7\n",
       "Tent Services                         6\n",
       "Cable TV Services                     5\n",
       "Tuition Centre                        3\n",
       "Professional                          3\n",
       "Manufacturing                         1\n",
       "Name: loan_purpose, dtype: int64"
      ]
     },
     "execution_count": 35,
     "metadata": {},
     "output_type": "execute_result"
    }
   ],
   "source": [
    "#counting values under each loan purpose\n",
    "data['loan_purpose'].value_counts()"
   ]
  },
  {
   "cell_type": "code",
   "execution_count": 36,
   "metadata": {},
   "outputs": [
    {
     "data": {
      "text/plain": [
       "12    39294\n",
       "6       382\n",
       "24      244\n",
       "15       53\n",
       "14       10\n",
       "18        6\n",
       "48        4\n",
       "84        2\n",
       "72        2\n",
       "3         2\n",
       "60        1\n",
       "Name: loan_tenure, dtype: int64"
      ]
     },
     "execution_count": 36,
     "metadata": {},
     "output_type": "execute_result"
    }
   ],
   "source": [
    "#counting values of loan tenure\n",
    "data['loan_tenure'].value_counts()"
   ]
  },
  {
   "cell_type": "code",
   "execution_count": 37,
   "metadata": {},
   "outputs": [
    {
     "data": {
      "text/plain": [
       "12    28980\n",
       "50    10097\n",
       "6       344\n",
       "24      232\n",
       "2        94\n",
       "51       74\n",
       "15       53\n",
       "53       29\n",
       "55       25\n",
       "4        15\n",
       "8        12\n",
       "74       11\n",
       "58       10\n",
       "18        6\n",
       "52        6\n",
       "48        4\n",
       "72        2\n",
       "1         2\n",
       "84        2\n",
       "60        1\n",
       "0         1\n",
       "Name: loan_installments, dtype: int64"
      ]
     },
     "execution_count": 37,
     "metadata": {},
     "output_type": "execute_result"
    }
   ],
   "source": [
    "#counting values of loan installments\n",
    "data['loan_installments'].value_counts()"
   ]
  },
  {
   "cell_type": "code",
   "execution_count": 40,
   "metadata": {},
   "outputs": [
    {
     "data": {
      "text/plain": [
       "0.0         5197\n",
       "600.0       4740\n",
       "300.0       3913\n",
       "400.0       2740\n",
       "500.0       2299\n",
       "200.0       1700\n",
       "800.0       1445\n",
       "700.0       1243\n",
       "250.0       1140\n",
       "350.0       1043\n",
       "1000.0      1006\n",
       "900.0        953\n",
       "100.0        787\n",
       "450.0        645\n",
       "650.0        599\n",
       "4.0          530\n",
       "1500.0       511\n",
       "750.0        457\n",
       "150.0        429\n",
       "280.0        412\n",
       "120.0        395\n",
       "1200.0       333\n",
       "1400.0       331\n",
       "3.0          326\n",
       "1600.0       324\n",
       "5.0          269\n",
       "112.0        261\n",
       "1800.0       239\n",
       "550.0        222\n",
       "2000.0       206\n",
       "            ... \n",
       "6090.0         1\n",
       "5200.0         1\n",
       "457.0          1\n",
       "500000.0       1\n",
       "157.0          1\n",
       "2870.0         1\n",
       "6250.0         1\n",
       "17600.0        1\n",
       "404.0          1\n",
       "5600.0         1\n",
       "125000.0       1\n",
       "1485.0         1\n",
       "445.0          1\n",
       "2722.0         1\n",
       "384.0          1\n",
       "264.0          1\n",
       "192.0          1\n",
       "142.0          1\n",
       "165.0          1\n",
       "146.0          1\n",
       "62500.0        1\n",
       "1560.0         1\n",
       "1089.0         1\n",
       "5250.0         1\n",
       "3840.0         1\n",
       "185.0          1\n",
       "545.0          1\n",
       "5900.0         1\n",
       "342.0          1\n",
       "4785.0         1\n",
       "Name: house_area, Length: 391, dtype: int64"
      ]
     },
     "execution_count": 40,
     "metadata": {},
     "output_type": "execute_result"
    }
   ],
   "source": [
    "#counting values of house area\n",
    "data['house_area'].value_counts()"
   ]
  },
  {
   "cell_type": "code",
   "execution_count": 8,
   "metadata": {
    "scrolled": true
   },
   "outputs": [
    {
     "data": {
      "text/plain": [
       "Id                          0\n",
       "city                     1864\n",
       "age                         0\n",
       "sex                         0\n",
       "social_class             5255\n",
       "primary_business           26\n",
       "secondary_business       5241\n",
       "annual_income               0\n",
       "monthly_expenses          120\n",
       "old_dependents              0\n",
       "young_dependents            0\n",
       "home_ownership            379\n",
       "type_of_house             694\n",
       "occupants_count             0\n",
       "house_area                  0\n",
       "sanitary_availability     208\n",
       "water_availabity         5253\n",
       "loan_purpose               26\n",
       "loan_tenure                 0\n",
       "loan_installments           0\n",
       "loan_amount                 0\n",
       "dtype: int64"
      ]
     },
     "execution_count": 8,
     "metadata": {},
     "output_type": "execute_result"
    }
   ],
   "source": [
    "#finding missing values in each column\n",
    "data.isnull().sum()"
   ]
  },
  {
   "cell_type": "code",
   "execution_count": 7,
   "metadata": {},
   "outputs": [
    {
     "name": "stdout",
     "output_type": "stream",
     "text": [
      "Following columns have null value \n",
      " ['city', 'social_class', 'primary_business', 'secondary_business', 'monthly_expenses', 'home_ownership', 'type_of_house', 'sanitary_availability', 'water_availabity', 'loan_purpose']\n"
     ]
    }
   ],
   "source": [
    "dataset_null = dataset.isnull().sum()\n",
    "print ('Following columns have null value \\n', [dataset_null.index[i] for i in range(0,20) if dataset_null.values[i]>0])"
   ]
  },
  {
   "cell_type": "code",
   "execution_count": 19,
   "metadata": {
    "collapsed": true
   },
   "outputs": [],
   "source": [
    "#we obsreve that there are many missing values. Now we are going to replace the missing values by most occuring values \n",
    "#replacing missing values\n",
    "data['city'].fillna(data['city'].mode()[0] , inplace=True)\n",
    "data['social_class'].fillna(data['social_class'].mode()[0] , inplace=True)\n",
    "data['primary_business'].fillna(data['primary_business'].mode()[0] , inplace=True)\n",
    "data['secondary_business'].fillna(data['secondary_business'].mode()[0] , inplace=True)\n",
    "data['monthly_expenses'].fillna(data['monthly_expenses'].mode()[0] , inplace=True)\n",
    "data['home_ownership'].fillna(data['home_ownership'].mode()[0] , inplace=True)\n",
    "data['type_of_house'].fillna(data['type_of_house'].mode()[0] , inplace=True)\n",
    "data['sanitary_availability'].fillna(data['sanitary_availability'].mode()[0] , inplace=True)\n",
    "data['loan_purpose'].fillna(data['loan_purpose'].mode()[0] , inplace=True)"
   ]
  },
  {
   "cell_type": "code",
   "execution_count": 21,
   "metadata": {},
   "outputs": [
    {
     "data": {
      "text/plain": [
       "Id                       0\n",
       "city                     0\n",
       "age                      0\n",
       "sex                      0\n",
       "social_class             0\n",
       "primary_business         0\n",
       "secondary_business       0\n",
       "annual_income            0\n",
       "monthly_expenses         0\n",
       "old_dependents           0\n",
       "young_dependents         0\n",
       "home_ownership           0\n",
       "type_of_house            0\n",
       "occupants_count          0\n",
       "house_area               0\n",
       "sanitary_availability    0\n",
       "water_availabity         0\n",
       "loan_purpose             0\n",
       "loan_tenure              0\n",
       "loan_installments        0\n",
       "loan_amount              0\n",
       "dtype: int64"
      ]
     },
     "execution_count": 21,
     "metadata": {},
     "output_type": "execute_result"
    }
   ],
   "source": [
    "#checking missing values again\n",
    "data.isnull().sum()"
   ]
  },
  {
   "cell_type": "code",
   "execution_count": 28,
   "metadata": {},
   "outputs": [
    {
     "data": {
      "text/plain": [
       "Id                       40000\n",
       "city                       856\n",
       "age                         62\n",
       "sex                          3\n",
       "social_class               519\n",
       "primary_business           441\n",
       "secondary_business           5\n",
       "annual_income              359\n",
       "monthly_expenses           260\n",
       "old_dependents               4\n",
       "young_dependents             8\n",
       "home_ownership               2\n",
       "type_of_house                3\n",
       "occupants_count             23\n",
       "house_area                 391\n",
       "sanitary_availability        3\n",
       "water_availabity             4\n",
       "loan_purpose                37\n",
       "loan_tenure                 11\n",
       "loan_installments           21\n",
       "loan_amount                115\n",
       "dtype: int64"
      ]
     },
     "execution_count": 28,
     "metadata": {},
     "output_type": "execute_result"
    }
   ],
   "source": [
    "#checking  id is unique or not.if there is 40000 ids then id are unique\n",
    "data.apply(lambda x: len(x.unique()))"
   ]
  },
  {
   "cell_type": "code",
   "execution_count": 9,
   "metadata": {},
   "outputs": [
    {
     "data": {
      "text/plain": [
       "array([    22,     21,     24,     26,     23,     28,     38,     25,\n",
       "           34,     37,     50,     54,     57,     48,     32,     35,\n",
       "           43,     51,     39,     41,     46,     45,     44,     47,\n",
       "           40,     42,     33,     53,     30,     29,     36,     19,\n",
       "           27,     20,     55,     49,     31,     52,     58,     56,\n",
       "           18,     59,     60,     61,     63,     64,     62,     65,\n",
       "           67,     70,    205, 766105,     74,      2,    288,     69,\n",
       "           66,     72,     68,     82,     88,     75], dtype=int64)"
      ]
     },
     "execution_count": 9,
     "metadata": {},
     "output_type": "execute_result"
    }
   ],
   "source": [
    "# Different age entry in 'age' feature\n",
    "dataset.age.unique()"
   ]
  },
  {
   "cell_type": "code",
   "execution_count": 10,
   "metadata": {},
   "outputs": [
    {
     "data": {
      "text/html": [
       "<div>\n",
       "<style scoped>\n",
       "    .dataframe tbody tr th:only-of-type {\n",
       "        vertical-align: middle;\n",
       "    }\n",
       "\n",
       "    .dataframe tbody tr th {\n",
       "        vertical-align: top;\n",
       "    }\n",
       "\n",
       "    .dataframe thead th {\n",
       "        text-align: right;\n",
       "    }\n",
       "</style>\n",
       "<table border=\"1\" class=\"dataframe\">\n",
       "  <thead>\n",
       "    <tr style=\"text-align: right;\">\n",
       "      <th></th>\n",
       "      <th>Id</th>\n",
       "      <th>city</th>\n",
       "      <th>age</th>\n",
       "      <th>sex</th>\n",
       "      <th>social_class</th>\n",
       "      <th>primary_business</th>\n",
       "      <th>secondary_business</th>\n",
       "      <th>annual_income</th>\n",
       "      <th>monthly_expenses</th>\n",
       "      <th>old_dependents</th>\n",
       "      <th>...</th>\n",
       "      <th>home_ownership</th>\n",
       "      <th>type_of_house</th>\n",
       "      <th>occupants_count</th>\n",
       "      <th>house_area</th>\n",
       "      <th>sanitary_availability</th>\n",
       "      <th>water_availabity</th>\n",
       "      <th>loan_purpose</th>\n",
       "      <th>loan_tenure</th>\n",
       "      <th>loan_installments</th>\n",
       "      <th>loan_amount</th>\n",
       "    </tr>\n",
       "  </thead>\n",
       "  <tbody>\n",
       "    <tr>\n",
       "      <th>0</th>\n",
       "      <td>1</td>\n",
       "      <td>Dhanbad</td>\n",
       "      <td>22</td>\n",
       "      <td>F</td>\n",
       "      <td>Mochi</td>\n",
       "      <td>Tailoring</td>\n",
       "      <td>Others</td>\n",
       "      <td>36000.0</td>\n",
       "      <td>5000.0</td>\n",
       "      <td>0</td>\n",
       "      <td>...</td>\n",
       "      <td>1.0</td>\n",
       "      <td>R</td>\n",
       "      <td>4</td>\n",
       "      <td>70.0</td>\n",
       "      <td>1.0</td>\n",
       "      <td>0.5</td>\n",
       "      <td>Apparels</td>\n",
       "      <td>12</td>\n",
       "      <td>12</td>\n",
       "      <td>5000.0</td>\n",
       "    </tr>\n",
       "    <tr>\n",
       "      <th>1</th>\n",
       "      <td>2</td>\n",
       "      <td>Manjapra</td>\n",
       "      <td>21</td>\n",
       "      <td>F</td>\n",
       "      <td>OBC</td>\n",
       "      <td>Tailoring</td>\n",
       "      <td>none</td>\n",
       "      <td>94000.0</td>\n",
       "      <td>3600.0</td>\n",
       "      <td>1</td>\n",
       "      <td>...</td>\n",
       "      <td>1.0</td>\n",
       "      <td>T1</td>\n",
       "      <td>4</td>\n",
       "      <td>80.0</td>\n",
       "      <td>1.0</td>\n",
       "      <td>0.5</td>\n",
       "      <td>Apparels</td>\n",
       "      <td>12</td>\n",
       "      <td>50</td>\n",
       "      <td>7500.0</td>\n",
       "    </tr>\n",
       "    <tr>\n",
       "      <th>2</th>\n",
       "      <td>3</td>\n",
       "      <td>Dhanbad</td>\n",
       "      <td>24</td>\n",
       "      <td>M</td>\n",
       "      <td>Nai</td>\n",
       "      <td>Beauty salon</td>\n",
       "      <td>Others</td>\n",
       "      <td>48000.0</td>\n",
       "      <td>4000.0</td>\n",
       "      <td>0</td>\n",
       "      <td>...</td>\n",
       "      <td>1.0</td>\n",
       "      <td>T1</td>\n",
       "      <td>4</td>\n",
       "      <td>50.0</td>\n",
       "      <td>1.0</td>\n",
       "      <td>0.5</td>\n",
       "      <td>Beauty Salon</td>\n",
       "      <td>12</td>\n",
       "      <td>12</td>\n",
       "      <td>5000.0</td>\n",
       "    </tr>\n",
       "    <tr>\n",
       "      <th>3</th>\n",
       "      <td>4</td>\n",
       "      <td>NaN</td>\n",
       "      <td>26</td>\n",
       "      <td>F</td>\n",
       "      <td>OBC</td>\n",
       "      <td>Tailoring</td>\n",
       "      <td>none</td>\n",
       "      <td>7000.0</td>\n",
       "      <td>5000.0</td>\n",
       "      <td>0</td>\n",
       "      <td>...</td>\n",
       "      <td>1.0</td>\n",
       "      <td>T1</td>\n",
       "      <td>5</td>\n",
       "      <td>50.0</td>\n",
       "      <td>1.0</td>\n",
       "      <td>0.5</td>\n",
       "      <td>Apparels</td>\n",
       "      <td>12</td>\n",
       "      <td>50</td>\n",
       "      <td>7500.0</td>\n",
       "    </tr>\n",
       "    <tr>\n",
       "      <th>4</th>\n",
       "      <td>5</td>\n",
       "      <td>Nuapada</td>\n",
       "      <td>23</td>\n",
       "      <td>F</td>\n",
       "      <td>OBC</td>\n",
       "      <td>General store</td>\n",
       "      <td>Agriculture</td>\n",
       "      <td>36000.0</td>\n",
       "      <td>3500.0</td>\n",
       "      <td>0</td>\n",
       "      <td>...</td>\n",
       "      <td>1.0</td>\n",
       "      <td>T1</td>\n",
       "      <td>1</td>\n",
       "      <td>112.0</td>\n",
       "      <td>1.0</td>\n",
       "      <td>0.5</td>\n",
       "      <td>Retail Store</td>\n",
       "      <td>12</td>\n",
       "      <td>12</td>\n",
       "      <td>5000.0</td>\n",
       "    </tr>\n",
       "  </tbody>\n",
       "</table>\n",
       "<p>5 rows × 21 columns</p>\n",
       "</div>"
      ],
      "text/plain": [
       "   Id      city  age sex social_class primary_business secondary_business  \\\n",
       "0   1   Dhanbad   22   F        Mochi        Tailoring             Others   \n",
       "1   2  Manjapra   21   F          OBC        Tailoring               none   \n",
       "2   3   Dhanbad   24   M          Nai     Beauty salon             Others   \n",
       "3   4       NaN   26   F          OBC        Tailoring               none   \n",
       "4   5   Nuapada   23   F          OBC    General store        Agriculture   \n",
       "\n",
       "   annual_income  monthly_expenses  old_dependents  ...  home_ownership  \\\n",
       "0        36000.0            5000.0               0  ...             1.0   \n",
       "1        94000.0            3600.0               1  ...             1.0   \n",
       "2        48000.0            4000.0               0  ...             1.0   \n",
       "3         7000.0            5000.0               0  ...             1.0   \n",
       "4        36000.0            3500.0               0  ...             1.0   \n",
       "\n",
       "   type_of_house occupants_count  house_area  sanitary_availability  \\\n",
       "0              R               4        70.0                    1.0   \n",
       "1             T1               4        80.0                    1.0   \n",
       "2             T1               4        50.0                    1.0   \n",
       "3             T1               5        50.0                    1.0   \n",
       "4             T1               1       112.0                    1.0   \n",
       "\n",
       "   water_availabity  loan_purpose loan_tenure  loan_installments  loan_amount  \n",
       "0               0.5      Apparels          12                 12       5000.0  \n",
       "1               0.5      Apparels          12                 50       7500.0  \n",
       "2               0.5  Beauty Salon          12                 12       5000.0  \n",
       "3               0.5      Apparels          12                 50       7500.0  \n",
       "4               0.5  Retail Store          12                 12       5000.0  \n",
       "\n",
       "[5 rows x 21 columns]"
      ]
     },
     "execution_count": 10,
     "metadata": {},
     "output_type": "execute_result"
    }
   ],
   "source": [
    "# Some unrealistic values are entered, must be due to mistake, that must be removed\n",
    "dataset_age = dataset.loc[(dataset['age']> 15) & (dataset['age']< 100) ]\n",
    "dataset_age.head()"
   ]
  },
  {
   "cell_type": "code",
   "execution_count": 18,
   "metadata": {},
   "outputs": [
    {
     "data": {
      "text/plain": [
       "array([22, 21, 24, 26, 23, 28, 38, 25, 34, 37, 50, 54, 57, 48, 32, 35, 43,\n",
       "       51, 39, 41, 46, 45, 44, 47, 40, 42, 33, 53, 30, 29, 36, 19, 27, 20,\n",
       "       55, 49, 31, 52, 58, 56, 18, 59, 60, 61, 63, 64, 62, 65, 67, 70, 74,\n",
       "       69, 66, 72, 68, 82, 88, 75], dtype=int64)"
      ]
     },
     "execution_count": 18,
     "metadata": {},
     "output_type": "execute_result"
    }
   ],
   "source": [
    "#mistakes eliminated\n",
    "dataset_age.age.unique()"
   ]
  },
  {
   "cell_type": "code",
   "execution_count": 19,
   "metadata": {},
   "outputs": [
    {
     "data": {
      "text/plain": [
       "35.999349918739846"
      ]
     },
     "execution_count": 19,
     "metadata": {},
     "output_type": "execute_result"
    }
   ],
   "source": [
    "# Mean of Age column after eliminating unrealistic age\n",
    "dataset_age.age.mean()"
   ]
  },
  {
   "cell_type": "code",
   "execution_count": 11,
   "metadata": {},
   "outputs": [
    {
     "data": {
      "text/plain": [
       "age\n",
       "2          5000.0\n",
       "18         7575.0\n",
       "19         8380.0\n",
       "20         7398.0\n",
       "21         8238.0\n",
       "           ...   \n",
       "82         2000.0\n",
       "88        10000.0\n",
       "205        5000.0\n",
       "288        7500.0\n",
       "766105     3000.0\n",
       "Name: loan_amount, Length: 62, dtype: float64"
      ]
     },
     "execution_count": 11,
     "metadata": {},
     "output_type": "execute_result"
    }
   ],
   "source": [
    "# Average loan amount per age\n",
    "avg_loan_amount_by_age = dataset.groupby('age').loan_amount.mean().round()\n",
    "avg_loan_amount_by_age"
   ]
  },
  {
   "cell_type": "code",
   "execution_count": 20,
   "metadata": {},
   "outputs": [
    {
     "data": {
      "image/png": "[encoded data removed]",
      "text/plain": [
       "<Figure size 1800x360 with 1 Axes>"
      ]
     },
     "metadata": {},
     "output_type": "display_data"
    }
   ],
   "source": [
    "# Plotting of Average loan amount per age\n",
    "plt.figure(figsize = (25, 5))\n",
    "plt.title('Average Loan amount considering age of person')\n",
    "sns.barplot(avg_loan_amount_by_age.index, avg_loan_amount_by_age.values)\n",
    "plt.show()"
   ]
  },
  {
   "cell_type": "code",
   "execution_count": 13,
   "metadata": {},
   "outputs": [
    {
     "data": {
      "text/plain": [
       "array(['F', 'M', 'TG'], dtype=object)"
      ]
     },
     "execution_count": 13,
     "metadata": {},
     "output_type": "execute_result"
    }
   ],
   "source": [
    "#Entry in 'sex' feature\n",
    "dataset.sex.unique()"
   ]
  },
  {
   "cell_type": "code",
   "execution_count": 14,
   "metadata": {},
   "outputs": [
    {
     "data": {
      "text/html": [
       "<div>\n",
       "<style scoped>\n",
       "    .dataframe tbody tr th:only-of-type {\n",
       "        vertical-align: middle;\n",
       "    }\n",
       "\n",
       "    .dataframe tbody tr th {\n",
       "        vertical-align: top;\n",
       "    }\n",
       "\n",
       "    .dataframe thead th {\n",
       "        text-align: right;\n",
       "    }\n",
       "</style>\n",
       "<table border=\"1\" class=\"dataframe\">\n",
       "  <thead>\n",
       "    <tr style=\"text-align: right;\">\n",
       "      <th></th>\n",
       "      <th>sex</th>\n",
       "      <th>loan_amount</th>\n",
       "    </tr>\n",
       "  </thead>\n",
       "  <tbody>\n",
       "    <tr>\n",
       "      <th>0</th>\n",
       "      <td>F</td>\n",
       "      <td>8375.0</td>\n",
       "    </tr>\n",
       "    <tr>\n",
       "      <th>1</th>\n",
       "      <td>M</td>\n",
       "      <td>9001.0</td>\n",
       "    </tr>\n",
       "    <tr>\n",
       "      <th>2</th>\n",
       "      <td>TG</td>\n",
       "      <td>9000.0</td>\n",
       "    </tr>\n",
       "  </tbody>\n",
       "</table>\n",
       "</div>"
      ],
      "text/plain": [
       "  sex  loan_amount\n",
       "0   F       8375.0\n",
       "1   M       9001.0\n",
       "2  TG       9000.0"
      ]
     },
     "execution_count": 14,
     "metadata": {},
     "output_type": "execute_result"
    }
   ],
   "source": [
    "# Average loan amount per gender\n",
    "avg_loan_amount_by_sex = dataset.groupby('sex').loan_amount.mean().round()\n",
    "dataset[['sex', 'loan_amount']].groupby('sex', as_index = False).loan_amount.mean().round()"
   ]
  },
  {
   "cell_type": "code",
   "execution_count": 21,
   "metadata": {},
   "outputs": [
    {
     "data": {
      "image/png": "[encoded data removed]",
      "text/plain": [
       "<Figure size 216x216 with 1 Axes>"
      ]
     },
     "metadata": {},
     "output_type": "display_data"
    }
   ],
   "source": [
    "# Plotting of Average loan amount per age\n",
    "plt.figure(figsize = (3, 3))\n",
    "plt.title('Average Loan amount considering gender of person')\n",
    "sns.barplot(avg_loan_amount_by_sex.index, avg_loan_amount_by_sex.values)\n",
    "plt.show()"
   ]
  },
  {
   "cell_type": "code",
   "execution_count": 22,
   "metadata": {},
   "outputs": [
    {
     "data": {
      "text/plain": [
       "primary_business\n",
       "Tailoring                3971\n",
       "Goat rearing             2268\n",
       "Cow Rearing              2077\n",
       "Handloom Work            2068\n",
       "Vegetable cultivation    1704\n",
       "Grocery store            1369\n",
       "School                   1332\n",
       "Milk business            1310\n",
       "Vegetable vendor         1174\n",
       "Weaver                   1157\n",
       "Saree business           1000\n",
       "Embroidery work           942\n",
       "Fish rearing              735\n",
       "Poultry farm              726\n",
       "Rice business             678\n",
       "Name: primary_business, dtype: int64"
      ]
     },
     "execution_count": 22,
     "metadata": {},
     "output_type": "execute_result"
    }
   ],
   "source": [
    "dataset.groupby('primary_business').primary_business.count().sort_values(ascending = False).head(15)"
   ]
  },
  {
   "cell_type": "code",
   "execution_count": 30,
   "metadata": {},
   "outputs": [
    {
     "data": {
      "text/plain": [
       "dtype('O')"
      ]
     },
     "execution_count": 30,
     "metadata": {},
     "output_type": "execute_result"
    }
   ],
   "source": [
    "dataset.primary_business = dataset.primary_business.astype('str')\n",
    "dataset.primary_business.dtype"
   ]
  },
  {
   "cell_type": "code",
   "execution_count": 31,
   "metadata": {},
   "outputs": [
    {
     "data": {
      "text/plain": [
       "0        tailoring\n",
       "1        tailoring\n",
       "2            salon\n",
       "3        tailoring\n",
       "4            store\n",
       "           ...    \n",
       "39995      rearing\n",
       "39996    tailoring\n",
       "39997      rearing\n",
       "39998      rearing\n",
       "39999      rearing\n",
       "Name: primary_business_cat, Length: 40000, dtype: object"
      ]
     },
     "execution_count": 31,
     "metadata": {},
     "output_type": "execute_result"
    }
   ],
   "source": [
    "dataset['primary_business_cat'] = dataset['primary_business'].apply(lambda x : x.lower())\n",
    "dataset['primary_business_cat'] = dataset['primary_business_cat'].apply(lambda x : x.split(' ')[-1])\n",
    "dataset['primary_business_cat']"
   ]
  },
  {
   "cell_type": "code",
   "execution_count": 34,
   "metadata": {},
   "outputs": [
    {
     "data": {
      "text/html": [
       "<div>\n",
       "<style scoped>\n",
       "    .dataframe tbody tr th:only-of-type {\n",
       "        vertical-align: middle;\n",
       "    }\n",
       "\n",
       "    .dataframe tbody tr th {\n",
       "        vertical-align: top;\n",
       "    }\n",
       "\n",
       "    .dataframe thead th {\n",
       "        text-align: right;\n",
       "    }\n",
       "</style>\n",
       "<table border=\"1\" class=\"dataframe\">\n",
       "  <thead>\n",
       "    <tr style=\"text-align: right;\">\n",
       "      <th></th>\n",
       "      <th>primary_business_cat</th>\n",
       "      <th>loan_amount</th>\n",
       "    </tr>\n",
       "  </thead>\n",
       "  <tbody>\n",
       "    <tr>\n",
       "      <th>72</th>\n",
       "      <td>loans</td>\n",
       "      <td>2500.0</td>\n",
       "    </tr>\n",
       "    <tr>\n",
       "      <th>155</th>\n",
       "      <td>works</td>\n",
       "      <td>5000.0</td>\n",
       "    </tr>\n",
       "    <tr>\n",
       "      <th>66</th>\n",
       "      <td>labour</td>\n",
       "      <td>5000.0</td>\n",
       "    </tr>\n",
       "    <tr>\n",
       "      <th>70</th>\n",
       "      <td>library</td>\n",
       "      <td>5000.0</td>\n",
       "    </tr>\n",
       "    <tr>\n",
       "      <th>33</th>\n",
       "      <td>cutting</td>\n",
       "      <td>5000.0</td>\n",
       "    </tr>\n",
       "    <tr>\n",
       "      <th>...</th>\n",
       "      <td>...</td>\n",
       "      <td>...</td>\n",
       "    </tr>\n",
       "    <tr>\n",
       "      <th>42</th>\n",
       "      <td>fabrication</td>\n",
       "      <td>135000.0</td>\n",
       "    </tr>\n",
       "    <tr>\n",
       "      <th>46</th>\n",
       "      <td>farmers</td>\n",
       "      <td>500000.0</td>\n",
       "    </tr>\n",
       "    <tr>\n",
       "      <th>0</th>\n",
       "      <td>(artisans)</td>\n",
       "      <td>500000.0</td>\n",
       "    </tr>\n",
       "    <tr>\n",
       "      <th>91</th>\n",
       "      <td>organization</td>\n",
       "      <td>540000.0</td>\n",
       "    </tr>\n",
       "    <tr>\n",
       "      <th>25</th>\n",
       "      <td>communities</td>\n",
       "      <td>750000.0</td>\n",
       "    </tr>\n",
       "  </tbody>\n",
       "</table>\n",
       "<p>156 rows × 2 columns</p>\n",
       "</div>"
      ],
      "text/plain": [
       "    primary_business_cat  loan_amount\n",
       "72                 loans       2500.0\n",
       "155                works       5000.0\n",
       "66                labour       5000.0\n",
       "70               library       5000.0\n",
       "33               cutting       5000.0\n",
       "..                   ...          ...\n",
       "42           fabrication     135000.0\n",
       "46               farmers     500000.0\n",
       "0             (artisans)     500000.0\n",
       "91          organization     540000.0\n",
       "25           communities     750000.0\n",
       "\n",
       "[156 rows x 2 columns]"
      ]
     },
     "execution_count": 34,
     "metadata": {},
     "output_type": "execute_result"
    }
   ],
   "source": [
    "# Average loan amount per gender\n",
    "dataset[['primary_business_cat', 'loan_amount']].groupby('primary_business_cat', as_index = False).loan_amount.mean().round().sort_values(by = 'loan_amount')"
   ]
  },
  {
   "cell_type": "code",
   "execution_count": 35,
   "metadata": {},
   "outputs": [
    {
     "data": {
      "text/plain": [
       "secondary_business\n",
       "Agriculture             2105\n",
       "Daily wage labourer     2545\n",
       "Livestock rearing        179\n",
       "Others                  2564\n",
       "none                   27366\n",
       "Name: secondary_business, dtype: int64"
      ]
     },
     "execution_count": 35,
     "metadata": {},
     "output_type": "execute_result"
    }
   ],
   "source": [
    "# counting entry in 'secondary_business'\n",
    "dataset.groupby('secondary_business').secondary_business.count()"
   ]
  },
  {
   "cell_type": "code",
   "execution_count": 37,
   "metadata": {},
   "outputs": [
    {
     "data": {
      "text/plain": [
       "0        YES\n",
       "1         NO\n",
       "2        YES\n",
       "3         NO\n",
       "4        YES\n",
       "        ... \n",
       "39995     NO\n",
       "39996     NO\n",
       "39997     NO\n",
       "39998     NO\n",
       "39999     NO\n",
       "Name: secondary_business_YES_NO, Length: 40000, dtype: object"
      ]
     },
     "execution_count": 37,
     "metadata": {},
     "output_type": "execute_result"
    }
   ],
   "source": [
    "# creating a column with information that a secondary business is there or not\n",
    "dataset['secondary_business_YES_NO'] = dataset.secondary_business.apply(lambda x : 'NO' if (x =='none' and np.nan) else 'YES')\n",
    "dataset['secondary_business_YES_NO']"
   ]
  },
  {
   "cell_type": "code",
   "execution_count": 38,
   "metadata": {},
   "outputs": [
    {
     "data": {
      "text/html": [
       "<div>\n",
       "<style scoped>\n",
       "    .dataframe tbody tr th:only-of-type {\n",
       "        vertical-align: middle;\n",
       "    }\n",
       "\n",
       "    .dataframe tbody tr th {\n",
       "        vertical-align: top;\n",
       "    }\n",
       "\n",
       "    .dataframe thead th {\n",
       "        text-align: right;\n",
       "    }\n",
       "</style>\n",
       "<table border=\"1\" class=\"dataframe\">\n",
       "  <thead>\n",
       "    <tr style=\"text-align: right;\">\n",
       "      <th></th>\n",
       "      <th>secondary_business_YES_NO</th>\n",
       "      <th>loan_amount</th>\n",
       "    </tr>\n",
       "  </thead>\n",
       "  <tbody>\n",
       "    <tr>\n",
       "      <th>0</th>\n",
       "      <td>NO</td>\n",
       "      <td>9117.0</td>\n",
       "    </tr>\n",
       "    <tr>\n",
       "      <th>1</th>\n",
       "      <td>YES</td>\n",
       "      <td>6887.0</td>\n",
       "    </tr>\n",
       "  </tbody>\n",
       "</table>\n",
       "</div>"
      ],
      "text/plain": [
       "  secondary_business_YES_NO  loan_amount\n",
       "0                        NO       9117.0\n",
       "1                       YES       6887.0"
      ]
     },
     "execution_count": 38,
     "metadata": {},
     "output_type": "execute_result"
    }
   ],
   "source": [
    "# Let's see average loan amount of people who have secondary business and who don't have secondary business\n",
    "avg_loan_amount_by_secondary_business = dataset.groupby('secondary_business_YES_NO').loan_amount.mean().round()\n",
    "dataset[['secondary_business_YES_NO', 'loan_amount']].groupby('secondary_business_YES_NO', as_index = False).loan_amount.mean().round()"
   ]
  },
  {
   "cell_type": "code",
   "execution_count": 40,
   "metadata": {},
   "outputs": [
    {
     "data": {
      "image/png": "[encoded data removed]",
      "text/plain": [
       "<Figure size 360x360 with 1 Axes>"
      ]
     },
     "metadata": {},
     "output_type": "display_data"
    }
   ],
   "source": [
    "# Plotting average loan amount considering people who have secondary business or not\n",
    "plt.figure(figsize = (5, 5))\n",
    "plt.title('Average of loan amount for people who has secondary business or not')\n",
    "sns.barplot(avg_loan_amount_by_secondary_business.index, avg_loan_amount_by_secondary_business.values)\n",
    "plt.show()\n"
   ]
  },
  {
   "cell_type": "code",
   "execution_count": 43,
   "metadata": {
    "collapsed": true
   },
   "outputs": [],
   "source": [
    "#  Annual income sample sorted\n",
    "dataset_annual_income = dataset.sort_values(by = 'annual_income')\n"
   ]
  },
  {
   "cell_type": "code",
   "execution_count": 45,
   "metadata": {},
   "outputs": [
    {
     "data": {
      "image/png": "[encoded data removed]",
      "text/plain": [
       "<Figure size 720x360 with 1 Axes>"
      ]
     },
     "metadata": {},
     "output_type": "display_data"
    }
   ],
   "source": [
    "#Plot of Annual Income vs Loan amount\n",
    "plt.figure(figsize = (10, 5))\n",
    "plt.title('Annual Income vs Loan Amount')\n",
    "plt.xlabel('Annual Income')\n",
    "plt.ylabel('Loan Amount')\n",
    "plt.plot(dataset_annual_income['annual_income'], dataset_annual_income['loan_amount'])\n",
    "plt.show()"
   ]
  },
  {
   "cell_type": "code",
   "execution_count": 47,
   "metadata": {},
   "outputs": [
    {
     "data": {
      "image/png": "[encoded data removed]",
      "text/plain": [
       "<Figure size 720x360 with 1 Axes>"
      ]
     },
     "metadata": {},
     "output_type": "display_data"
    }
   ],
   "source": [
    "#ploting annual income\n",
    "plt.figure(figsize = (10,5))\n",
    "plt.plot(dataset.annual_income)\n",
    "plt.show()\n"
   ]
  },
  {
   "cell_type": "code",
   "execution_count": 48,
   "metadata": {},
   "outputs": [
    {
     "data": {
      "text/plain": [
       "0        low\n",
       "1        low\n",
       "2        low\n",
       "3        low\n",
       "4        low\n",
       "        ... \n",
       "39995    low\n",
       "39996    low\n",
       "39997    low\n",
       "39998    low\n",
       "39999    low\n",
       "Name: annual_income_cat, Length: 40000, dtype: category\n",
       "Categories (4, object): ['low' < 'medium' < 'high' < 'extremely high']"
      ]
     },
     "execution_count": 48,
     "metadata": {},
     "output_type": "execute_result"
    }
   ],
   "source": [
    "dataset['annual_income_cat'] = pd.cut(dataset['annual_income'], bins = 4, labels = ['low', 'medium', 'high', 'extremely high' ])\n",
    "dataset['annual_income_cat']"
   ]
  },
  {
   "cell_type": "code",
   "execution_count": 49,
   "metadata": {},
   "outputs": [
    {
     "data": {
      "text/html": [
       "<div>\n",
       "<style scoped>\n",
       "    .dataframe tbody tr th:only-of-type {\n",
       "        vertical-align: middle;\n",
       "    }\n",
       "\n",
       "    .dataframe tbody tr th {\n",
       "        vertical-align: top;\n",
       "    }\n",
       "\n",
       "    .dataframe thead th {\n",
       "        text-align: right;\n",
       "    }\n",
       "</style>\n",
       "<table border=\"1\" class=\"dataframe\">\n",
       "  <thead>\n",
       "    <tr style=\"text-align: right;\">\n",
       "      <th></th>\n",
       "      <th>annual_income_cat</th>\n",
       "      <th>loan_amount</th>\n",
       "    </tr>\n",
       "  </thead>\n",
       "  <tbody>\n",
       "    <tr>\n",
       "      <th>0</th>\n",
       "      <td>low</td>\n",
       "      <td>8408.700328</td>\n",
       "    </tr>\n",
       "    <tr>\n",
       "      <th>1</th>\n",
       "      <td>medium</td>\n",
       "      <td>25500.000000</td>\n",
       "    </tr>\n",
       "    <tr>\n",
       "      <th>2</th>\n",
       "      <td>high</td>\n",
       "      <td>13333.333333</td>\n",
       "    </tr>\n",
       "    <tr>\n",
       "      <th>3</th>\n",
       "      <td>extremely high</td>\n",
       "      <td>10500.000000</td>\n",
       "    </tr>\n",
       "  </tbody>\n",
       "</table>\n",
       "</div>"
      ],
      "text/plain": [
       "  annual_income_cat   loan_amount\n",
       "0               low   8408.700328\n",
       "1            medium  25500.000000\n",
       "2              high  13333.333333\n",
       "3    extremely high  10500.000000"
      ]
     },
     "execution_count": 49,
     "metadata": {},
     "output_type": "execute_result"
    }
   ],
   "source": [
    "# Average Loan amount considering Annual Income\n",
    "dataset[['annual_income_cat', 'loan_amount']].groupby('annual_income_cat', as_index = False).loan_amount.mean()"
   ]
  },
  {
   "cell_type": "code",
   "execution_count": 51,
   "metadata": {},
   "outputs": [
    {
     "data": {
      "text/html": [
       "<div>\n",
       "<style scoped>\n",
       "    .dataframe tbody tr th:only-of-type {\n",
       "        vertical-align: middle;\n",
       "    }\n",
       "\n",
       "    .dataframe tbody tr th {\n",
       "        vertical-align: top;\n",
       "    }\n",
       "\n",
       "    .dataframe thead th {\n",
       "        text-align: right;\n",
       "    }\n",
       "</style>\n",
       "<table border=\"1\" class=\"dataframe\">\n",
       "  <thead>\n",
       "    <tr style=\"text-align: right;\">\n",
       "      <th></th>\n",
       "      <th>annual_income_cat</th>\n",
       "      <th>annual_income</th>\n",
       "    </tr>\n",
       "  </thead>\n",
       "  <tbody>\n",
       "    <tr>\n",
       "      <th>0</th>\n",
       "      <td>low</td>\n",
       "      <td>37453.0</td>\n",
       "    </tr>\n",
       "    <tr>\n",
       "      <th>1</th>\n",
       "      <td>medium</td>\n",
       "      <td>428750.0</td>\n",
       "    </tr>\n",
       "    <tr>\n",
       "      <th>2</th>\n",
       "      <td>high</td>\n",
       "      <td>788378.0</td>\n",
       "    </tr>\n",
       "    <tr>\n",
       "      <th>3</th>\n",
       "      <td>extremely high</td>\n",
       "      <td>1100000.0</td>\n",
       "    </tr>\n",
       "  </tbody>\n",
       "</table>\n",
       "</div>"
      ],
      "text/plain": [
       "  annual_income_cat  annual_income\n",
       "0               low        37453.0\n",
       "1            medium       428750.0\n",
       "2              high       788378.0\n",
       "3    extremely high      1100000.0"
      ]
     },
     "execution_count": 51,
     "metadata": {},
     "output_type": "execute_result"
    }
   ],
   "source": [
    "# Average Annual income in each category of Annual Income\n",
    "dataset[['annual_income_cat', 'annual_income']].groupby('annual_income_cat', as_index = False).annual_income.mean().round()"
   ]
  },
  {
   "cell_type": "code",
   "execution_count": 52,
   "metadata": {},
   "outputs": [
    {
     "data": {
      "text/html": [
       "<div>\n",
       "<style scoped>\n",
       "    .dataframe tbody tr th:only-of-type {\n",
       "        vertical-align: middle;\n",
       "    }\n",
       "\n",
       "    .dataframe tbody tr th {\n",
       "        vertical-align: top;\n",
       "    }\n",
       "\n",
       "    .dataframe thead th {\n",
       "        text-align: right;\n",
       "    }\n",
       "</style>\n",
       "<table border=\"1\" class=\"dataframe\">\n",
       "  <thead>\n",
       "    <tr style=\"text-align: right;\">\n",
       "      <th></th>\n",
       "      <th>annual_income_cat</th>\n",
       "      <th>annual_income</th>\n",
       "    </tr>\n",
       "  </thead>\n",
       "  <tbody>\n",
       "    <tr>\n",
       "      <th>0</th>\n",
       "      <td>low</td>\n",
       "      <td>300000.0</td>\n",
       "    </tr>\n",
       "    <tr>\n",
       "      <th>1</th>\n",
       "      <td>medium</td>\n",
       "      <td>600000.0</td>\n",
       "    </tr>\n",
       "    <tr>\n",
       "      <th>2</th>\n",
       "      <td>high</td>\n",
       "      <td>850000.0</td>\n",
       "    </tr>\n",
       "    <tr>\n",
       "      <th>3</th>\n",
       "      <td>extremely high</td>\n",
       "      <td>1200000.0</td>\n",
       "    </tr>\n",
       "  </tbody>\n",
       "</table>\n",
       "</div>"
      ],
      "text/plain": [
       "  annual_income_cat  annual_income\n",
       "0               low       300000.0\n",
       "1            medium       600000.0\n",
       "2              high       850000.0\n",
       "3    extremely high      1200000.0"
      ]
     },
     "execution_count": 52,
     "metadata": {},
     "output_type": "execute_result"
    }
   ],
   "source": [
    "# Maximum Annual income in each category of Annual Income\n",
    "dataset[['annual_income_cat', 'annual_income']].groupby('annual_income_cat', as_index = False).annual_income.max()"
   ]
  },
  {
   "cell_type": "code",
   "execution_count": 57,
   "metadata": {},
   "outputs": [
    {
     "data": {
      "image/png": "[encoded data removed]",
      "text/plain": [
       "<Figure size 1800x360 with 1 Axes>"
      ]
     },
     "metadata": {},
     "output_type": "display_data"
    }
   ],
   "source": [
    "# Plot of Monthly Expenses vs Loan amount\n",
    "plt.figure(figsize = (25, 5))\n",
    "plt.title('Monthly Expenses vs Loan Amount')\n",
    "plt.xlabel('Monthly Expenses')\n",
    "plt.ylabel('Loan Amount')\n",
    "plt.plot(dataset_monthly_expenses['monthly_expenses'], dataset_monthly_expenses['loan_amount'])\n",
    "plt.show()"
   ]
  },
  {
   "cell_type": "code",
   "execution_count": null,
   "metadata": {
    "collapsed": true
   },
   "outputs": [],
   "source": []
  }
 ],
 "metadata": {
  "kernelspec": {
   "display_name": "Python 3",
   "language": "python",
   "name": "python3"
  },
  "language_info": {
   "codemirror_mode": {
    "name": "ipython",
    "version": 3
   },
   "file_extension": ".py",
   "mimetype": "text/x-python",
   "name": "python",
   "nbconvert_exporter": "python",
   "pygments_lexer": "ipython3",
   "version": "3.6.1"
  }
 },
 "nbformat": 4,
 "nbformat_minor": 2
}
